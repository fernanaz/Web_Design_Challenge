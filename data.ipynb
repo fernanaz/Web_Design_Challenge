{
 "cells": [
  {
   "cell_type": "raw",
   "metadata": {},
   "source": [
    "import pandas as pd\r\n",
    "import numpy as np"
   ]
  },
  {
   "cell_type": "raw",
   "metadata": {},
   "source": [
    "loadcsv=pd.read_csv(\"cities.csv\", index_col=\"City_ID\")"
   ]
  },
  {
   "cell_type": "raw",
   "metadata": {},
   "source": [
    "loadcsv"
   ]
  },
  {
   "cell_type": "raw",
   "metadata": {},
   "source": [
    "data_html=loadcsv.to_html"
   ]
  },
  {
   "cell_type": "raw",
   "metadata": {},
   "source": [
    "data_html"
   ]
  },
  {
   "cell_type": "raw",
   "metadata": {},
   "source": [
    "write_file=open(\"datanew_html\",\"w\")\r\n",
    "write_file.write(data_html)\r\n",
    "write_file.close()"
   ]
  },
  {
   "cell_type": "raw",
   "metadata": {},
   "source": []
  }
 ],
 "metadata": {
  "kernelspec": {
   "display_name": "Python 3",
   "name": "python3"
  },
  "language_info": {
   "name": "python",
   "nbconvert_exporter": "python",
   "version": "3.8.3-final"
  },
  "orig_nbformat": 2
 },
 "nbformat": 4,
 "nbformat_minor": 2
}